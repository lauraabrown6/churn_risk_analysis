{
 "cells": [
  {
   "cell_type": "markdown",
   "metadata": {},
   "source": [
    "# Churn Rate Analysis"
   ]
  },
  {
   "cell_type": "markdown",
   "metadata": {},
   "source": [
    "### Install packages\n",
    "Installing packages and dependents to query from bigquery and loading bigquery package"
   ]
  },
  {
   "cell_type": "code",
   "execution_count": null,
   "metadata": {},
   "outputs": [],
   "source": [
    "##bigquery installation\n",
    "!pip install google-cloud-bigquery-storage --quiet \n",
    "##bigquery uses pandas internally, pyarrow is required to enable this\n",
    "!pip install pyarrow --quiet \n",
    "##for progress bar\n",
    "!pip install tqdm --quiet\n",
    "## jupyter notebook ui\n",
    "!pip install ipywidgets --quiet "
   ]
  },
  {
   "cell_type": "code",
   "execution_count": null,
   "metadata": {},
   "outputs": [],
   "source": [
    "## Load magic string extension from google.cloud.bigquery to be enable magic cell for bigquery in my notebook.\n",
    "\n",
    "%load_ext google.cloud.bigquery"
   ]
  },
  {
   "cell_type": "markdown",
   "metadata": {},
   "source": [
    "## Assumptions of the data\n",
    "- Every tuple is referencing 1 customer\n",
    "- Account_length is in months\n",
    "- Charges are per year\n",
    "- If they do not have a voicemail plan they cannot have any voicemails\n",
    "- If they do not have an international plan they can still make international calls (at a cost)"
   ]
  },
  {
   "cell_type": "markdown",
   "metadata": {},
   "source": [
    "## Churn rate overview\n",
    "The churn rate is the annual percentage rate that customers cancel their service, calculated as the number of customers who churned divided by the total number of customers, times by 100 to get a percentage.\n",
    "\n",
    "First the churn rate and total_customers (sample size) is calcualted. This helps understand the baseline.\n",
    "\n",
    "Then basic analysis (mean, median, mode, standard deviation) is done to get a better understanding of the key data points.\n",
    "\n",
    "Finally segementation and analysis of the groups is conducted, and location specific analysis is done.\n",
    "\n"
   ]
  },
  {
   "cell_type": "code",
   "execution_count": null,
   "metadata": {},
   "outputs": [],
   "source": [
    "%%bigquery\n",
    "SELECT \n",
    "    COUNT(DISTINCT unique_id) AS total_customer,\n",
    "    SUM(churn_binary) AS churned_customer\n",
    "FROM `nomadic-ocean-395807.churn_rate.customer_data`;\n"
   ]
  },
  {
   "cell_type": "code",
   "execution_count": null,
   "metadata": {},
   "outputs": [],
   "source": [
    "%%bigquery\n",
    "SELECT \n",
    "    SUM(churn_binary)/COUNT(area_code)*100 AS churn_rate\n",
    "FROM `nomadic-ocean-395807.churn_rate.customer_data`;\n"
   ]
  },
  {
   "cell_type": "markdown",
   "metadata": {},
   "source": [
    "## Mean, Median, Mode and Standard Deviation\n",
    "For basic analysis, a churned comparison of the mean, median, mode and standard deviation for different variables is done."
   ]
  },
  {
   "cell_type": "markdown",
   "metadata": {},
   "source": [
    "### Number of Voicemail messages\n",
    "Higher mean number of voicemail messages for active accounts\n",
    "Median is 0 for churned for and acitve accounts\n"
   ]
  },
  {
   "cell_type": "code",
   "execution_count": null,
   "metadata": {},
   "outputs": [],
   "source": [
    "%%bigquery\n",
    "SELECT \n",
    "    churn,\n",
    "    AVG(number_vmail_messages) AS mean,\n",
    "    APPROX_QUANTILES(number_vmail_messages,100)[OFFSET(50)] AS median,\n",
    "    APPROX_TOP_COUNT(number_vmail_messages,1) AS mode,\n",
    "    STDDEV(number_vmail_messages) AS stddev\n",
    "FROM `nomadic-ocean-395807.churn_rate.customer_data`\n",
    "GROUP BY churn;\n"
   ]
  },
  {
   "cell_type": "markdown",
   "metadata": {},
   "source": [
    "### Total International calls\n",
    "Comparable mean number of total international calls, very slightly higher for active accounts\n",
    "Median is 4 for both churned and active accounts"
   ]
  },
  {
   "cell_type": "code",
   "execution_count": null,
   "metadata": {},
   "outputs": [],
   "source": [
    "%%bigquery\n",
    "SELECT \n",
    "    churn,\n",
    "    AVG(total_intl_calls) AS mean, \n",
    "    APPROX_QUANTILES(total_intl_calls,100)[OFFSET(50)] AS median,\n",
    "    APPROX_TOP_COUNT(total_intl_calls,1) AS mode,\n",
    "    STDDEV(total_intl_charge) AS stddev\n",
    "FROM `nomadic-ocean-395807.churn_rate.customer_data`\n",
    "GROUP BY churn;\n"
   ]
  },
  {
   "cell_type": "markdown",
   "metadata": {},
   "source": [
    "### Number of Customer service calls\n",
    "Higher mean number of customer service calls for churned accounts\n",
    "Median is 1 call higher for churned accounts"
   ]
  },
  {
   "cell_type": "code",
   "execution_count": null,
   "metadata": {},
   "outputs": [],
   "source": [
    "%%bigquery\n",
    "SELECT \n",
    "    churn,\n",
    "    AVG(number_customer_service_calls) AS mean, \n",
    "    APPROX_QUANTILES(number_customer_service_calls,100)[OFFSET(50)] AS median,\n",
    "    APPROX_TOP_COUNT(number_customer_service_calls,1) AS mode,\n",
    "    STDDEV(number_customer_service_calls) AS stddev\n",
    "FROM `nomadic-ocean-395807.churn_rate.customer_data`\n",
    "GROUP BY churn;\n"
   ]
  },
  {
   "cell_type": "markdown",
   "metadata": {},
   "source": [
    "### Account length\n",
    "Slightly higher mean account length for churned accounts\n",
    "Median is 2 months higher for churned accounts"
   ]
  },
  {
   "cell_type": "code",
   "execution_count": null,
   "metadata": {},
   "outputs": [],
   "source": [
    "%%bigquery\n",
    "SELECT \n",
    "    churn,\n",
    "    AVG(account_length) AS mean,\n",
    "    APPROX_QUANTILES(account_length,100)[OFFSET(50)] AS median,\n",
    "    APPROX_TOP_COUNT(account_length,1) AS mode,\n",
    "    STDDEV(account_length) AS stddev\n",
    "FROM `nomadic-ocean-395807.churn_rate.customer_data`\n",
    "GROUP BY churn;\n"
   ]
  },
  {
   "cell_type": "markdown",
   "metadata": {},
   "source": [
    "### Total charges\n",
    "Higher mean total charges for churned accounts\n",
    "Median is $8.15 higher for churned accounts"
   ]
  },
  {
   "cell_type": "code",
   "execution_count": null,
   "metadata": {},
   "outputs": [],
   "source": [
    "%%bigquery\n",
    "SELECT\n",
    "    churn,\n",
    "    AVG(total_charges) AS mean,\n",
    "    APPROX_QUANTILES(total_charges,100)[OFFSET(50)] AS median,\n",
    "    APPROX_TOP_COUNT(total_charges,1) AS mode,\n",
    "    STDDEV(total_charges) AS stddev\n",
    "FROM `nomadic-ocean-395807.churn_rate.customer_data`\n",
    "GROUP BY churn;\n"
   ]
  },
  {
   "cell_type": "markdown",
   "metadata": {},
   "source": [
    "## Segmenting\n",
    "Segmenting the customers into different cohorts can make it easier to identify the type of customers at risk of churn.\n",
    "The following variables have been segmented; plan type (voicemail and international), account length, yrr and number of customer service calls\n",
    "A churn analysis was run to compare the segments within the each variable."
   ]
  },
  {
   "cell_type": "markdown",
   "metadata": {},
   "source": [
    "### Account length\n",
    "The cohorts with the most amount of churns are 4-8 and 8-12 years, they also have the most amount of active accounts so this is to be expected. As a percentage, the longest tenure accounts 16-20 years has a higher churn rate then the other groups. The 0-4 and 4-8 years shows the lowest percentages also."
   ]
  },
  {
   "cell_type": "code",
   "execution_count": null,
   "metadata": {},
   "outputs": [],
   "source": [
    "%%bigquery\n",
    "SELECT \n",
    "    SUM(churn_binary) AS churn_count,\n",
    "    COUNT(\n",
    "        CASE \n",
    "            WHEN NOT churn THEN 1 \n",
    "        END) AS active_count,\n",
    "        account_length_group_years\n",
    "FROM `nomadic-ocean-395807.churn_rate.customer_data`\n",
    "GROUP BY account_length_group_years\n",
    "ORDER BY churn_count DESC;\n"
   ]
  },
  {
   "cell_type": "code",
   "execution_count": null,
   "metadata": {},
   "outputs": [],
   "source": [
    "%%bigquery\n",
    "SELECT\n",
    "    ROUND((SUM(churn_binary)/COUNT(unique_id)*100),2) AS churn_rate,\n",
    "    account_length_group_years\n",
    "FROM `nomadic-ocean-395807.churn_rate.customer_data`\n",
    "GROUP BY account_length_group_years\n",
    "ORDER BY churn_rate DESC;\n"
   ]
  },
  {
   "cell_type": "markdown",
   "metadata": {},
   "source": [
    "### YRR\n",
    "The cohort with the most amount of churns is $60.00 - $79.99 $40.00 - $59.99, they also have the most amount of active accounts so this is to be expected. As a percentage, the cohort $80.00 - $99.99 has a much higher churn rate then the other groups. "
   ]
  },
  {
   "cell_type": "code",
   "execution_count": null,
   "metadata": {},
   "outputs": [],
   "source": [
    "%%bigquery\n",
    "SELECT \n",
    "    SUM(churn_binary) AS churn_count,\n",
    "    COUNT(\n",
    "        CASE \n",
    "            WHEN NOT churn THEN 1 \n",
    "        END) AS active_count,\n",
    "    yrr_group\n",
    "FROM `nomadic-ocean-395807.churn_rate.customer_data`\n",
    "GROUP BY yrr_group\n",
    "ORDER BY churn_count DESC;\n"
   ]
  },
  {
   "cell_type": "code",
   "execution_count": null,
   "metadata": {},
   "outputs": [],
   "source": [
    "%%bigquery\n",
    "SELECT \n",
    "    ROUND((SUM(churn_binary)/COUNT(unique_id)*100),2) AS churn_rate,\n",
    "    yrr_group\n",
    "FROM `nomadic-ocean-395807.churn_rate.customer_data`\n",
    "GROUP BY yrr_group\n",
    "ORDER BY churn_rate DESC;\n"
   ]
  },
  {
   "cell_type": "markdown",
   "metadata": {},
   "source": [
    "### Voicemail plan\n",
    "Number of accounts with VM messages (and therefore VM plan) grouped by churn.\n"
   ]
  },
  {
   "cell_type": "code",
   "execution_count": null,
   "metadata": {},
   "outputs": [],
   "source": [
    "%%bigquery\n",
    "SELECT \n",
    "    churn,\n",
    "    SUM(IF (number_vmail_messages > 0, 1, 0)) AS voicemail_count,\n",
    "FROM \n",
    "    `nomadic-ocean-395807.churn_rate.customer_data`\n",
    "GROUP BY \n",
    "    voice_mail_plan,\n",
    "    churn\n",
    "HAVING voice_mail_plan IS TRUE\n",
    "ORDER BY voicemail_count;\n"
   ]
  },
  {
   "cell_type": "markdown",
   "metadata": {},
   "source": [
    "#### churn rate - Voicemail\n",
    "Churn rate comparison between has voicemail plan and does not have voicemail plan.\n",
    "This can help identify if having voicemail plan increases churn rate"
   ]
  },
  {
   "cell_type": "code",
   "execution_count": null,
   "metadata": {},
   "outputs": [],
   "source": [
    "%%bigquery\n",
    "SELECT \n",
    "    voice_mail_plan,\n",
    "    ROUND((SUM(churn_binary)/COUNT(unique_id)*100),2) AS churn_rate\n",
    "FROM `nomadic-ocean-395807.churn_rate.customer_data`\n",
    "GROUP BY voice_mail_plan;\n"
   ]
  },
  {
   "cell_type": "markdown",
   "metadata": {},
   "source": [
    "### International plan\n",
    "Number of accounts with International plan grouped by churn and not churned."
   ]
  },
  {
   "cell_type": "code",
   "execution_count": null,
   "metadata": {},
   "outputs": [],
   "source": [
    "%%bigquery\n",
    "SELECT \n",
    "    churn,\n",
    "    COUNT(\n",
    "        CASE \n",
    "            WHEN NOT churn THEN 1 \n",
    "        END) AS active_count,\n",
    "    COUNT(\n",
    "        CASE \n",
    "            WHEN churn THEN 1 \n",
    "        END) AS churn_count,\n",
    "    COUNT(\n",
    "        CASE \n",
    "            WHEN international_plan THEN 1 \n",
    "        END) AS international_plan\n",
    "FROM `nomadic-ocean-395807.churn_rate.customer_data`\n",
    "GROUP BY churn;\n"
   ]
  },
  {
   "cell_type": "markdown",
   "metadata": {},
   "source": [
    "#### Churn rate - International plan\n",
    "Churn rate comparison between has international plan and does not have international plan.\n",
    "This can help identify if having international plan increases churn rate."
   ]
  },
  {
   "cell_type": "code",
   "execution_count": null,
   "metadata": {},
   "outputs": [],
   "source": [
    "%%bigquery\n",
    "SELECT\n",
    "    international_plan,\n",
    "    ROUND((SUM(churn_binary)/COUNT(unique_id)*100),2) AS churn_rate\n",
    "FROM `nomadic-ocean-395807.churn_rate.customer_data`\n",
    "GROUP BY international_plan;\n"
   ]
  },
  {
   "cell_type": "markdown",
   "metadata": {},
   "source": [
    "#### International plan costs and churn rate\n",
    "International plan and international calls and charges comparison."
   ]
  },
  {
   "cell_type": "code",
   "execution_count": null,
   "metadata": {},
   "outputs": [],
   "source": [
    "%%bigquery\n",
    "SELECT\n",
    "    churn,\n",
    "    international_plan,\n",
    "    SUM(total_intl_charge) AS intl_charge, \n",
    "    SUM(total_intl_calls) AS intl_calls, \n",
    "    SUM(total_intl_minutes) AS intl_minutes\n",
    "FROM `nomadic-ocean-395807.churn_rate.customer_data`\n",
    "GROUP BY \n",
    "    churn, \n",
    "    international_plan;\n"
   ]
  },
  {
   "cell_type": "code",
   "execution_count": null,
   "metadata": {},
   "outputs": [],
   "source": [
    "%%bigquery\n",
    "SELECT \n",
    "    ROUND((SUM(churn_binary)/COUNT(unique_id)*100),2) AS churn_rate,\n",
    "    state\n",
    "FROM `nomadic-ocean-395807.churn_rate.customer_data`\n",
    "GROUP BY state\n",
    "ORDER BY churn_rate DESC;\n"
   ]
  },
  {
   "cell_type": "code",
   "execution_count": null,
   "metadata": {},
   "outputs": [],
   "source": [
    "%%bigquery\n",
    "SELECT \n",
    "    state,\n",
    "    COUNT(state) AS account_count,\n",
    "    ROUND((SUM(churn_binary)/COUNT(unique_id)*100),2) AS churn_rate,\n",
    "    SUM(churn_binary) AS churn_count, \n",
    "    SUM(number_vmail_messages) AS vmail_count,\n",
    "    SUM(total_charges) AS charges_count, \n",
    "    SUM(number_customer_service_calls) AS cs_calls_count\n",
    "FROM `nomadic-ocean-395807.churn_rate.customer_data`\n",
    "GROUP BY state\n",
    "ORDER BY churn_rate DESC;\n"
   ]
  },
  {
   "cell_type": "markdown",
   "metadata": {},
   "source": [
    "### Number of Customer service calls\n",
    "There is a signifcant increase in churn rate when customer service calls are 4 and above"
   ]
  },
  {
   "cell_type": "code",
   "execution_count": null,
   "metadata": {},
   "outputs": [],
   "source": [
    "%%bigquery\n",
    "SELECT \n",
    "    number_customer_service_calls,\n",
    "    COUNT (number_customer_service_calls) AS call_count,\n",
    "    ROUND((SUM(churn_binary)/COUNT(unique_id)*100),2) AS churn_rate\n",
    "FROM `nomadic-ocean-395807.churn_rate.customer_data`\n",
    "GROUP BY number_customer_service_calls \n",
    "ORDER BY churn_rate DESC;\n"
   ]
  },
  {
   "cell_type": "markdown",
   "metadata": {},
   "source": [
    "## Location data\n",
    "### State\n",
    "Location specific data is evaluated. This can help individual branches with marketing decisions and tailor retention process on a state by state basis"
   ]
  },
  {
   "cell_type": "code",
   "execution_count": null,
   "metadata": {},
   "outputs": [],
   "source": [
    "%%bigquery\n",
    "SELECT \n",
    "    state,\n",
    "    COUNT(state) AS account_count,\n",
    "    ROUND((SUM(churn_binary)/COUNT(unique_id)*100),2) AS churn_rate,\n",
    "    SUM(churn_binary) AS churn_count, \n",
    "    SUM(number_vmail_messages) AS vmail_count,\n",
    "    SUM(total_charges) AS charges_count, \n",
    "    SUM(number_customer_service_calls) AS cs_calls_count\n",
    "FROM `nomadic-ocean-395807.churn_rate.customer_data`\n",
    "GROUP BY state\n",
    "ORDER BY churn_rate DESC;\n"
   ]
  }
 ],
 "metadata": {
  "kernelspec": {
   "display_name": "Python 3",
   "language": "python",
   "name": "python3"
  },
  "language_info": {
   "codemirror_mode": {
    "name": "ipython",
    "version": 3
   },
   "file_extension": ".py",
   "mimetype": "text/x-python",
   "name": "python",
   "nbconvert_exporter": "python",
   "pygments_lexer": "ipython3",
   "version": "3.11.5"
  },
  "orig_nbformat": 4
 },
 "nbformat": 4,
 "nbformat_minor": 2
}
