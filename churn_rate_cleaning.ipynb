{
 "cells": [
  {
   "cell_type": "markdown",
   "metadata": {},
   "source": [
    "## Connect Big Query to VScode\n",
    "\n",
    "Before writing any queries, I need to connect Big Query to VScode. \n",
    "\n",
    "I want to do this because VScode is a great all in one IDE and by consolidating the tools I use to VScode, \n",
    "I can have all of my project work in one place.\n",
    "\n",
    "This takes many steps including downloading G Cloud CLI, \n",
    "creating a service account and assigning correct permissions to the account. \n",
    "\n",
    "Now that my Big Query account is connected to VSCode, I can get started with my queries."
   ]
  },
  {
   "cell_type": "markdown",
   "metadata": {},
   "source": [
    "### Install packages\n",
    "Installing packages and dependents to query from bigquery and loading bigquery package"
   ]
  },
  {
   "cell_type": "code",
   "execution_count": null,
   "metadata": {},
   "outputs": [],
   "source": [
    "##bigquery installation\n",
    "!pip install google-cloud-bigquery-storage --quiet \n",
    "##bigquery uses pandas internally, pyarrow is required to enable this\n",
    "!pip install pyarrow --quiet \n",
    "##for progress bar\n",
    "!pip install tqdm --quiet\n",
    "## jupyter notebook ui\n",
    "!pip install ipywidgets --quiet \n"
   ]
  },
  {
   "cell_type": "code",
   "execution_count": null,
   "metadata": {},
   "outputs": [],
   "source": [
    "## Load magic string extension from google.cloud.bigquery to be enable magic cell for bigquery in my notebook.\n",
    "\n",
    "%load_ext google.cloud.bigquery"
   ]
  },
  {
   "cell_type": "markdown",
   "metadata": {},
   "source": [
    "# Data Cleaning and Validation\n",
    "## Loading data and reviewing attributes and record types\n",
    "\n",
    "- Create a new dataset in Biq Query and upload the table for query.\n",
    "- Load the whole dataset and the data details for review and for a better understanding of the data as a whole.\n",
    "- Use `SELECT *` , `COUNT(DISTINCT unique_id)`, and  `INFORMATION_SCHEMA.COLUMNS` statements to get a count of the total number of customers"
   ]
  },
  {
   "cell_type": "code",
   "execution_count": null,
   "metadata": {},
   "outputs": [],
   "source": [
    "%%bigquery\n",
    "SELECT\n",
    "    *\n",
    "FROM `nomadic-ocean-395807.churn_rate.customer_data`\n",
    "LIMIT 20;\n",
    "\n"
   ]
  },
  {
   "cell_type": "code",
   "execution_count": null,
   "metadata": {},
   "outputs": [],
   "source": [
    "%%bigquery\n",
    "SELECT\n",
    "    COUNT(DISTINCT unique_id) AS sample_size\n",
    "FROM `nomadic-ocean-395807.churn_rate.customer_data`;\n"
   ]
  },
  {
   "cell_type": "code",
   "execution_count": null,
   "metadata": {},
   "outputs": [],
   "source": [
    "%%bigquery\n",
    "SELECT\n",
    "    *\n",
    "FROM nomadic-ocean-395807.churn_rate.INFORMATION_SCHEMA.COLUMNS\n",
    "WHERE TABLE_NAME = 'customer_data';"
   ]
  },
  {
   "cell_type": "markdown",
   "metadata": {},
   "source": [
    "### Data Type and column names\n",
    "The data type is correct for each attribute and the column names are logical "
   ]
  },
  {
   "cell_type": "markdown",
   "metadata": {},
   "source": [
    "## Duplicates \n",
    "Because there is no UUID provided, checking across multiple attributes can identify duplicates. It would be highly unlikely that two accounts have exactly the same area code and usage"
   ]
  },
  {
   "cell_type": "code",
   "execution_count": null,
   "metadata": {},
   "outputs": [],
   "source": [
    "%%bigquery\n",
    "SELECT \n",
    "    COUNT(*) AS duplicates\n",
    "FROM `nomadic-ocean-395807.churn_rate.customer_data`\n",
    "GROUP BY \n",
    "    area_code,\n",
    "    total_day_minutes,\n",
    "    total_eve_minutes,\n",
    "    total_night_minutes\n",
    "HAVING COUNT(*) > 1;\n"
   ]
  },
  {
   "cell_type": "markdown",
   "metadata": {},
   "source": [
    "No rows have the same value for area_code, total_day_minutes, total_eve_minutes, total_night_minutes. It is highly unlikely there are duplicate accounts"
   ]
  },
  {
   "cell_type": "markdown",
   "metadata": {},
   "source": [
    "## Attribute length"
   ]
  },
  {
   "cell_type": "markdown",
   "metadata": {},
   "source": [
    "### 'state' attribute length = 2\n",
    "The state column should be only 2 digits, this next query checks that."
   ]
  },
  {
   "cell_type": "code",
   "execution_count": null,
   "metadata": {},
   "outputs": [],
   "source": [
    "%%bigquery\n",
    "SELECT \n",
    "    LENGTH(state) AS state_value_length\n",
    "FROM `nomadic-ocean-395807.churn_rate.customer_data`\n",
    "GROUP BY LENGTH(state);\n"
   ]
  },
  {
   "cell_type": "markdown",
   "metadata": {},
   "source": [
    "### 'area_code' attribute length = 3\n",
    "The area_code column should be 3 digits, this next query checks that."
   ]
  },
  {
   "cell_type": "code",
   "execution_count": null,
   "metadata": {},
   "outputs": [],
   "source": [
    "%%bigquery\n",
    "SELECT\n",
    "    LENGTH(area_code) AS area_code_value_length\n",
    "FROM `nomadic-ocean-395807.churn_rate.customer_data`\n",
    "GROUP BY LENGTH(area_code);"
   ]
  },
  {
   "cell_type": "markdown",
   "metadata": {},
   "source": [
    "## NULL values"
   ]
  },
  {
   "cell_type": "markdown",
   "metadata": {},
   "source": [
    "### Select NULL values"
   ]
  },
  {
   "cell_type": "code",
   "execution_count": null,
   "metadata": {},
   "outputs": [],
   "source": [
    "%%bigquery\n",
    "SELECT \n",
    "    *\n",
    "FROM `nomadic-ocean-395807.churn_rate.customer_data`\n",
    "WHERE \n",
    "    state IS NULL OR\n",
    "    account_length IS NULL OR\n",
    "    area_code IS NULL OR\n",
    "    international_plan IS NULL OR\n",
    "    voice_mail_plan IS NULL OR\n",
    "    number_vmail_messages IS NULL OR\n",
    "    total_day_minutes IS NULL OR\n",
    "    total_day_calls IS NULL OR\n",
    "    total_day_charge IS NULL OR\n",
    "    total_eve_minutes IS NULL OR\n",
    "    total_eve_calls IS NULL OR\n",
    "    total_eve_charge IS NULL OR\n",
    "    total_night_minutes IS NULL OR\n",
    "    total_night_calls IS NULL OR\n",
    "    total_night_charge IS NULL OR\n",
    "    total_intl_minutes IS NULL OR\n",
    "    total_intl_calls IS NULL OR\n",
    "    total_intl_charge IS NULL OR\n",
    "    number_customer_service_calls IS NULL OR\n",
    "    churn IS NULL;\n"
   ]
  },
  {
   "cell_type": "markdown",
   "metadata": {},
   "source": [
    "### Delete IS NULL\n",
    "1 row returned NULL for all values, safe to say this is an error and should be deleted"
   ]
  },
  {
   "cell_type": "code",
   "execution_count": null,
   "metadata": {},
   "outputs": [],
   "source": [
    "%%bigquery\n",
    "DELETE FROM `nomadic-ocean-395807.churn_rate.customer_data`\n",
    "WHERE \n",
    "    state IS NULL OR\n",
    "    account_length IS NULL OR\n",
    "    area_code IS NULL OR\n",
    "    international_plan IS NULL OR\n",
    "    voice_mail_plan IS NULL OR\n",
    "    number_vmail_messages IS NULL OR\n",
    "    total_day_minutes IS NULL OR\n",
    "    total_day_calls IS NULL OR\n",
    "    total_day_charge IS NULL OR\n",
    "    total_eve_minutes IS NULL OR\n",
    "    total_eve_calls IS NULL OR\n",
    "    total_eve_charge IS NULL OR\n",
    "    total_night_minutes IS NULL OR\n",
    "    total_night_calls IS NULL OR\n",
    "    total_night_charge IS NULL OR\n",
    "    total_intl_minutes IS NULL OR\n",
    "    total_intl_calls IS NULL OR\n",
    "    total_intl_charge IS NULL OR\n",
    "    number_customer_service_calls IS NULL OR\n",
    "    churn IS NULL;\n"
   ]
  },
  {
   "cell_type": "markdown",
   "metadata": {},
   "source": [
    "## Outliers"
   ]
  },
  {
   "cell_type": "markdown",
   "metadata": {},
   "source": [
    "### Max Outliers\n",
    "\n",
    "Check for maximum values of columns to ensure no outliers.\n",
    "Start by checking the MAX account_length."
   ]
  },
  {
   "cell_type": "code",
   "execution_count": null,
   "metadata": {},
   "outputs": [],
   "source": [
    "%%bigquery\n",
    "SELECT \n",
    "    MAX(account_length) AS max_account_length \n",
    "FROM `nomadic-ocean-395807.churn_rate.customer_data`;\n"
   ]
  },
  {
   "cell_type": "markdown",
   "metadata": {},
   "source": [
    "#### Very high MAX account length\n",
    "The value is 243 (months) which is about 20 years.\n",
    "\n",
    "Add the `GROUP BY` churn to see if the data is counting months after churn, it doesn't appear to be as the account with 243 months is not churned\n",
    "\n",
    "Check the top 10 values to compare and see if it is an outlier or part of the norm"
   ]
  },
  {
   "cell_type": "code",
   "execution_count": null,
   "metadata": {},
   "outputs": [],
   "source": [
    "%%bigquery\n",
    "SELECT \n",
    "    account_length,\n",
    "    churn\n",
    "FROM `nomadic-ocean-395807.churn_rate.customer_data`\n",
    "ORDER BY account_length DESC\n",
    "LIMIT 10;"
   ]
  },
  {
   "cell_type": "markdown",
   "metadata": {},
   "source": [
    "#### High Max account_length not an outlier\n",
    "The high account_length doesn't appear to be an outlier, this company has some very longstanding customers.\n",
    "\n",
    "In a real world scenario, I would double check this with the customer support manager"
   ]
  },
  {
   "cell_type": "markdown",
   "metadata": {},
   "source": [
    "#### Comparing MAX values\n",
    "Check the MAX values for all of the calls variables"
   ]
  },
  {
   "cell_type": "code",
   "execution_count": null,
   "metadata": {},
   "outputs": [],
   "source": [
    "%%bigquery\n",
    "SELECT\n",
    "    number_customer_service_calls,\n",
    "    churn\n",
    "FROM `nomadic-ocean-395807.churn_rate.customer_data`\n",
    "ORDER BY number_customer_service_calls DESC\n",
    "LIMIT 10;"
   ]
  },
  {
   "cell_type": "code",
   "execution_count": null,
   "metadata": {},
   "outputs": [],
   "source": [
    "%%bigquery\n",
    "SELECT\n",
    "    total_intl_charge,\n",
    "    churn\n",
    "FROM `nomadic-ocean-395807.churn_rate.customer_data`\n",
    "ORDER BY total_intl_charge DESC\n",
    "LIMIT 10;"
   ]
  },
  {
   "cell_type": "code",
   "execution_count": null,
   "metadata": {},
   "outputs": [],
   "source": [
    "%%bigquery\n",
    "SELECT\n",
    "    total_intl_calls,\n",
    "    churn\n",
    "FROM `nomadic-ocean-395807.churn_rate.customer_data`\n",
    "ORDER BY total_intl_calls DESC\n",
    "LIMIT 10;\n"
   ]
  },
  {
   "cell_type": "code",
   "execution_count": null,
   "metadata": {},
   "outputs": [],
   "source": [
    "%%bigquery\n",
    "SELECT\n",
    "    total_intl_minutes,\n",
    "    churn\n",
    "FROM `nomadic-ocean-395807.churn_rate.customer_data`\n",
    "ORDER BY total_intl_minutes DESC\n",
    "LIMIT 10;\n"
   ]
  },
  {
   "cell_type": "code",
   "execution_count": null,
   "metadata": {},
   "outputs": [],
   "source": [
    "%%bigquery\n",
    "SELECT\n",
    "    total_night_charge,\n",
    "    churn\n",
    "FROM `nomadic-ocean-395807.churn_rate.customer_data`\n",
    "ORDER BY total_night_charge DESC\n",
    "LIMIT 10;\n"
   ]
  },
  {
   "cell_type": "code",
   "execution_count": null,
   "metadata": {},
   "outputs": [],
   "source": [
    "%%bigquery\n",
    "SELECT\n",
    "    total_night_calls,\n",
    "    churn\n",
    "FROM `nomadic-ocean-395807.churn_rate.customer_data`\n",
    "ORDER BY total_night_calls DESC\n",
    "LIMIT 10;\n"
   ]
  },
  {
   "cell_type": "code",
   "execution_count": null,
   "metadata": {},
   "outputs": [],
   "source": [
    "%%bigquery\n",
    "SELECT\n",
    "    total_night_minutes,\n",
    "    churn\n",
    "FROM `nomadic-ocean-395807.churn_rate.customer_data`\n",
    "ORDER BY total_night_minutes DESC\n",
    "LIMIT 10;\n"
   ]
  },
  {
   "cell_type": "code",
   "execution_count": null,
   "metadata": {},
   "outputs": [],
   "source": [
    "%%bigquery\n",
    "SELECT\n",
    "    total_eve_charge,\n",
    "    churn\n",
    "FROM `nomadic-ocean-395807.churn_rate.customer_data`\n",
    "ORDER BY total_eve_charge DESC\n",
    "LIMIT 10;\n"
   ]
  },
  {
   "cell_type": "code",
   "execution_count": null,
   "metadata": {},
   "outputs": [],
   "source": [
    "%%bigquery\n",
    "SELECT\n",
    "    total_eve_calls,\n",
    "    churn\n",
    "FROM `nomadic-ocean-395807.churn_rate.customer_data`\n",
    "ORDER BY total_eve_calls DESC\n",
    "LIMIT 10;\n"
   ]
  },
  {
   "cell_type": "code",
   "execution_count": null,
   "metadata": {},
   "outputs": [],
   "source": [
    "%%bigquery\n",
    "SELECT\n",
    "    total_eve_minutes,\n",
    "    churn\n",
    "FROM `nomadic-ocean-395807.churn_rate.customer_data`\n",
    "ORDER BY total_eve_minutes DESC\n",
    "LIMIT 10;\n"
   ]
  },
  {
   "cell_type": "code",
   "execution_count": null,
   "metadata": {},
   "outputs": [],
   "source": [
    "%%bigquery\n",
    "SELECT\n",
    "    total_day_charge,\n",
    "    churn\n",
    "FROM `nomadic-ocean-395807.churn_rate.customer_data`\n",
    "ORDER BY total_day_charge DESC\n",
    "LIMIT 10;\n"
   ]
  },
  {
   "cell_type": "code",
   "execution_count": null,
   "metadata": {},
   "outputs": [],
   "source": [
    "%%bigquery\n",
    "SELECT\n",
    "    total_day_calls,\n",
    "    churn\n",
    "FROM `nomadic-ocean-395807.churn_rate.customer_data`\n",
    "ORDER BY total_day_calls DESC\n",
    "LIMIT 10;\n"
   ]
  },
  {
   "cell_type": "code",
   "execution_count": null,
   "metadata": {},
   "outputs": [],
   "source": [
    "%%bigquery\n",
    "SELECT\n",
    "    total_day_minutes,\n",
    "    churn\n",
    "FROM `nomadic-ocean-395807.churn_rate.customer_data`\n",
    "ORDER BY total_day_minutes DESC\n",
    "LIMIT 10;\n"
   ]
  },
  {
   "cell_type": "code",
   "execution_count": null,
   "metadata": {},
   "outputs": [],
   "source": [
    "%%bigquery\n",
    "SELECT\n",
    "    number_vmail_messages,\n",
    "    churn\n",
    "FROM `nomadic-ocean-395807.churn_rate.customer_data`\n",
    "ORDER BY number_vmail_messages DESC\n",
    "LIMIT 10;\n"
   ]
  },
  {
   "cell_type": "markdown",
   "metadata": {},
   "source": [
    "### Minimum values\n",
    "Checking that there are no negative values in any of the INT64 or FLOAT columns"
   ]
  },
  {
   "cell_type": "code",
   "execution_count": null,
   "metadata": {},
   "outputs": [],
   "source": [
    "%%bigquery\n",
    "SELECT \n",
    "    churn,\n",
    "    SUM(IF (account_length < 0, 1, 0)) AS account_length,\n",
    "    SUM(IF (number_vmail_messages < 0, 1, 0)) AS number_vmail_messages,\n",
    "    SUM(IF (total_day_minutes < 0, 1, 0)) AS total_day_minutes,\n",
    "    SUM(IF (total_day_calls < 0, 1, 0)) AS total_day_calls,\n",
    "    SUM(IF (total_day_charge < 0, 1, 0)) AS total_day_charge,\n",
    "    SUM(IF (total_eve_minutes < 0, 1, 0)) AS total_eve_minutes,\n",
    "    SUM(IF (total_eve_calls < 0, 1, 0)) AS total_eve_calls,\n",
    "    SUM(IF (total_eve_charge < 0, 1, 0)) AS total_eve_charge,\n",
    "    SUM(IF (total_night_minutes < 0, 1, 0)) AS total_night_minutes,\n",
    "    SUM(IF (total_night_calls < 0, 1, 0)) AS total_night_calls,\n",
    "    SUM(IF (total_night_charge < 0, 1, 0)) AS total_night_charge,\n",
    "    SUM(IF (total_intl_minutes < 0, 1, 0)) AS total_intl_minutes,\n",
    "    SUM(IF (total_intl_calls < 0, 1, 0)) AS total_intl_calls,\n",
    "    SUM(IF (total_intl_charge < 0, 1, 0)) AS total_intl_charge,\n",
    "    SUM(IF (number_customer_service_calls < 0, 1, 0)) AS number_customer_service_calls\n",
    "FROM `nomadic-ocean-395807.churn_rate.customer_data`\n",
    "GROUP BY churn;\n"
   ]
  },
  {
   "cell_type": "markdown",
   "metadata": {},
   "source": [
    "## Clean area_code\n",
    "The field area_code has a prefix area_code_ before the 3 digit area code, for cleaner analysis remove the prefix and leave the 3 digit area code"
   ]
  },
  {
   "cell_type": "code",
   "execution_count": null,
   "metadata": {},
   "outputs": [],
   "source": [
    "%%bigquery\n",
    "UPDATE `nomadic-ocean-395807.churn_rate.customer_data`\n",
    "SET \n",
    "  area_code = RIGHT(area_code, LENGTH(area_code)-10)\n",
    "WHERE area_code LIKE 'area_code_%';\n",
    "\n"
   ]
  },
  {
   "cell_type": "markdown",
   "metadata": {},
   "source": [
    "## Consistency check Voicemail plan\n",
    "Checking that if they do not have the voicemail plan, the voicemails is 0"
   ]
  },
  {
   "cell_type": "code",
   "execution_count": null,
   "metadata": {},
   "outputs": [],
   "source": [
    "%%bigquery\n",
    "SELECT \n",
    "    churn,\n",
    "    SUM(IF(number_vmail_messages > 0, 1, 0)) voicemail_count,\n",
    "FROM `nomadic-ocean-395807.churn_rate.customer_data`\n",
    "GROUP BY \n",
    "    churn,\n",
    "    voice_mail_plan\n",
    "HAVING voice_mail_plan = FALSE;\n"
   ]
  },
  {
   "cell_type": "markdown",
   "metadata": {},
   "source": [
    "## Adding a column 'churn_binary'\n",
    "Create a churn column with binary values for ease of calculation in the analysis"
   ]
  },
  {
   "cell_type": "code",
   "execution_count": null,
   "metadata": {},
   "outputs": [],
   "source": [
    "%%bigquery\n",
    "ALTER TABLE `nomadic-ocean-395807.churn_rate.customer_data`\n",
    "ADD COLUMN churn_binary INT;\n"
   ]
  },
  {
   "cell_type": "markdown",
   "metadata": {},
   "source": [
    "### Update 'churn_binary'\n",
    "Update column churn_binary based on the churn column."
   ]
  },
  {
   "cell_type": "code",
   "execution_count": null,
   "metadata": {},
   "outputs": [],
   "source": [
    "%%bigquery\n",
    "UPDATE `nomadic-ocean-395807.churn_rate.customer_data`\n",
    "SET churn_binary =\n",
    "          CASE \n",
    "               WHEN churn IS false THEN 0\n",
    "               ELSE 1\n",
    "          END\n",
    "WHERE churn_binary IS NULL;\n"
   ]
  },
  {
   "cell_type": "markdown",
   "metadata": {},
   "source": [
    "### Select test 'churn_binary'\n",
    "Run a select to check the churn_binary is entered correctly"
   ]
  },
  {
   "cell_type": "code",
   "execution_count": null,
   "metadata": {},
   "outputs": [],
   "source": [
    "%%bigquery\n",
    "SELECT \n",
    "    churn_binary\n",
    "FROM `nomadic-ocean-395807.churn_rate.customer_data`\n"
   ]
  },
  {
   "cell_type": "markdown",
   "metadata": {},
   "source": [
    "## Adding a column 'unique_id'\n",
    "Each row corresponds to one account, in most account data there would be an account id that is unique to each account, something that identifies the account, this dataset is missing so it needs to be created."
   ]
  },
  {
   "cell_type": "code",
   "execution_count": null,
   "metadata": {},
   "outputs": [],
   "source": [
    "%%bigquery\n",
    "ALTER TABLE `nomadic-ocean-395807.churn_rate.customer_data`\n",
    "ADD COLUMN unique_id STRING;\n"
   ]
  },
  {
   "cell_type": "markdown",
   "metadata": {},
   "source": [
    "### Update 'unique_id'\n",
    "Update column unique_id with a uuid for identification of the account"
   ]
  },
  {
   "cell_type": "code",
   "execution_count": null,
   "metadata": {},
   "outputs": [],
   "source": [
    "%%bigquery\n",
    "UPDATE `nomadic-ocean-395807.churn_rate.customer_data`\n",
    "SET unique_id = generate_uuid()\n",
    "WHERE unique_id IS NULL;\n"
   ]
  },
  {
   "cell_type": "markdown",
   "metadata": {},
   "source": [
    "### Select test 'unique_id'\n",
    "Run a select to check the unique_id is entered correctly"
   ]
  },
  {
   "cell_type": "code",
   "execution_count": null,
   "metadata": {},
   "outputs": [],
   "source": [
    "%%bigquery\n",
    "SELECT\n",
    "    unique_id\n",
    "FROM `nomadic-ocean-395807.churn_rate.customer_data`;\n"
   ]
  },
  {
   "cell_type": "markdown",
   "metadata": {},
   "source": [
    "## Adding a column 'total_charges'\n",
    "This will help streamline high level analysis"
   ]
  },
  {
   "cell_type": "code",
   "execution_count": null,
   "metadata": {},
   "outputs": [],
   "source": [
    "%%bigquery\n",
    "ALTER TABLE `nomadic-ocean-395807.churn_rate.customer_data`\n",
    "ADD COLUMN total_charges FLOAT64;\n"
   ]
  },
  {
   "cell_type": "markdown",
   "metadata": {},
   "source": [
    "### Update 'total_charges'\n",
    "Add the values as the SUM of the charges on the account"
   ]
  },
  {
   "cell_type": "code",
   "execution_count": null,
   "metadata": {},
   "outputs": [],
   "source": [
    "%%bigquery\n",
    "UPDATE `nomadic-ocean-395807.churn_rate.customer_data`\n",
    "    SET total_charges = total_day_charge + total_eve_charge + total_night_charge + total_intl_Charge\n",
    "WHERE total_charges IS NULL;\n"
   ]
  },
  {
   "cell_type": "markdown",
   "metadata": {},
   "source": [
    "### Select test 'total_charges'\n",
    "Run a select to check the charges are entered correctly"
   ]
  },
  {
   "cell_type": "code",
   "execution_count": null,
   "metadata": {},
   "outputs": [],
   "source": [
    "%%bigquery\n",
    "SELECT \n",
    "    total_charges\n",
    "FROM `nomadic-ocean-395807.churn_rate.customer_data`\n",
    "ORDER BY total_charges;\n"
   ]
  },
  {
   "cell_type": "markdown",
   "metadata": {},
   "source": [
    "## Adding a column 'account_length_group_years'\n",
    "This is to segment the accounts based on account length. This will help to identify which accounts are at risk of churn."
   ]
  },
  {
   "cell_type": "code",
   "execution_count": null,
   "metadata": {},
   "outputs": [],
   "source": [
    "%%bigquery\n",
    "ALTER TABLE `nomadic-ocean-395807.churn_rate.customer_data`\n",
    "ADD COLUMN account_length_group_years STRING;\n"
   ]
  },
  {
   "cell_type": "markdown",
   "metadata": {},
   "source": [
    "### Update 'account_length_group_years'\n",
    "Update column account_length_group_years based on the segmenting of the account length. 5 equal segments were chosen to ensure simplicity and accuracy of the representation of each segment."
   ]
  },
  {
   "cell_type": "code",
   "execution_count": null,
   "metadata": {},
   "outputs": [],
   "source": [
    "%%bigquery\n",
    "UPDATE `nomadic-ocean-395807.churn_rate.customer_data`\n",
    "SET account_length_group_years =\n",
    "            CASE \n",
    "                WHEN account_length > 192 THEN '16-20'\n",
    "                WHEN account_length > 144 THEN '12-16'\n",
    "                WHEN account_length > 96 THEN '8-12'\n",
    "                WHEN account_length > 48 THEN '4-8'\n",
    "                ELSE '0-4' \n",
    "            END\n",
    "WHERE account_length_group_years IS NULL;\n"
   ]
  },
  {
   "cell_type": "markdown",
   "metadata": {},
   "source": [
    "### Select test 'account_length_group_years'\n",
    "Run a select to check the account length groups are entered correctly"
   ]
  },
  {
   "cell_type": "code",
   "execution_count": null,
   "metadata": {},
   "outputs": [],
   "source": [
    "%%bigquery\n",
    "SELECT \n",
    "    account_length_group_years\n",
    "FROM `nomadic-ocean-395807.churn_rate.customer_data`\n",
    "ORDER BY account_length_group_years;\n"
   ]
  },
  {
   "cell_type": "markdown",
   "metadata": {},
   "source": [
    "## Adding a column 'yrr_group'\n",
    "This is to segment the accounts based on the total_charges. This will help to identify which accounts are at risk of churn."
   ]
  },
  {
   "cell_type": "code",
   "execution_count": null,
   "metadata": {},
   "outputs": [],
   "source": [
    "%%bigquery\n",
    "ALTER TABLE `nomadic-ocean-395807.churn_rate.customer_data`\n",
    "ADD COLUMN yrr_group STRING;\n"
   ]
  },
  {
   "cell_type": "markdown",
   "metadata": {},
   "source": [
    "### Update 'yrr_group'\n",
    "Update column yrr_group based on the segmenting of the total_charges. 5 equal segments were chosen to ensure simplicity and accuracy of the representation of each segment."
   ]
  },
  {
   "cell_type": "code",
   "execution_count": null,
   "metadata": {},
   "outputs": [],
   "source": [
    "%%bigquery\n",
    "UPDATE `nomadic-ocean-395807.churn_rate.customer_data`\n",
    "SET yrr_group =\n",
    "            CASE \n",
    "                WHEN total_charges >= 80 THEN '$80.00 - $99.99'\n",
    "                WHEN total_charges >= 60 THEN '$60.00 - $79.99'\n",
    "                WHEN total_charges >= 40 THEN '$40.00 - $59.99'\n",
    "                WHEN total_charges >= 20 THEN '$20.00 - $39.99'\n",
    "                ELSE '$00.00 - $19.99'\n",
    "            END\n",
    "WHERE yrr_group IS NULL;\n"
   ]
  },
  {
   "cell_type": "markdown",
   "metadata": {},
   "source": [
    "### Select test 'yrr_group'\n",
    "Run a select to check the total_charges groups are entered correctly"
   ]
  },
  {
   "cell_type": "code",
   "execution_count": null,
   "metadata": {},
   "outputs": [],
   "source": [
    "%%bigquery\n",
    "SELECT \n",
    "    yrr_group\n",
    "FROM `nomadic-ocean-395807.churn_rate.customer_data`\n",
    "ORDER BY yrr_group;\n"
   ]
  }
 ],
 "metadata": {
  "kernelspec": {
   "display_name": "Python 3",
   "language": "python",
   "name": "python3"
  },
  "language_info": {
   "codemirror_mode": {
    "name": "ipython",
    "version": 3
   },
   "file_extension": ".py",
   "mimetype": "text/x-python",
   "name": "python",
   "nbconvert_exporter": "python",
   "pygments_lexer": "ipython3",
   "version": "3.11.5"
  },
  "orig_nbformat": 4
 },
 "nbformat": 4,
 "nbformat_minor": 2
}
