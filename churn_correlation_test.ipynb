{
 "cells": [
  {
   "cell_type": "code",
   "execution_count": null,
   "metadata": {},
   "outputs": [],
   "source": [
    "SELECT\n",
    "    ((tot_sum - (amt_sum * act_sum / _count)) / sqrt((amt_sum_sq - pow(amt_sum, 2.0) / _count) * (act_sum_sq - pow(act_sum, 2.0) / _count))) AS \"Corr Coef Using Pearson\"\n",
    "\n",
    "\n",
    "FROM(\n",
    "SELECT\n",
    "    sum(\"Amount\") AS amt_sum,\n",
    "    sum(\"Activities\") AS act_sum,\n",
    "    sum(\"Amount\" * \"Amount\") AS amt_sum_sq,\n",
    "    sum(\"Activities\" * \"Activities\") AS act_sum_sq,\n",
    "    sum(\"Amount\" * \"Activities\") AS tot_sum,\n",
    "    count(*) as _count\n",
    "\n",
    "FROM(\n",
    "SELECT\n",
    "    DATE_TRUNC('day', p.payment_date)::DATE AS \"Day\",\n",
    "    SUM(p.amount) AS \"Amount\",\n",
    "    COUNT(DISTINCT a.activity_id) AS \"Activities\"\n",
    "FROM\n",
    "    public.payments p\n",
    "    INNER JOIN public.subscriptions s ON p.subscription_id = s.subscription_id\n",
    "    INNER JOIN public.users u ON s.user_id = u.user_id\n",
    "    INNER JOIN public.activity a ON a.user_id = u.user_id\n",
    "\n",
    "GROUP BY 1) as a\n",
    "\n",
    ") as b\n",
    "\n",
    "GROUP BY tot_sum, amt_sum, act_sum, _count, amt_sum_sq, act_sum_sq"
   ]
  },
  {
   "cell_type": "markdown",
   "metadata": {},
   "source": [
    "## Correlation coefficient\n",
    "### cscalls"
   ]
  },
  {
   "cell_type": "code",
   "execution_count": null,
   "metadata": {},
   "outputs": [
    {
     "name": "stdout",
     "output_type": "stream",
     "text": [
      "   pearsonsr\n",
      "0   0.221168\n"
     ]
    }
   ],
   "source": [
    "query_and_display(\"\"\"\n",
    "SELECT (Avg(churn_binary * number_customer_service_calls  ) - (Avg(churn_binary) * Avg(number_customer_service_calls ))) / (stddev(churn_binary) * stddev(number_customer_service_calls )) AS pearsonsr\n",
    "FROM `nomadic-ocean-395807.churn_rate.customer_data`\n",
    "\n",
    "\"\"\"\n",
    "\n",
    "corr_avg_cscalls=query_and_display(sql)\n",
    "print(corr_avg_cscalls)"
   ]
  },
  {
   "cell_type": "code",
   "execution_count": null,
   "metadata": {},
   "outputs": [
    {
     "name": "stdout",
     "output_type": "stream",
     "text": [
      "   churn  median\n",
      "0   True     4.5\n"
     ]
    }
   ],
   "source": [
    "query_and_display(\"\"\"\n",
    "SELECT \n",
    "churn,\n",
    "    PERCENTILE_CONT(number_customer_service_calls, 0.5) OVER (PARTITION BY churn) AS median\n",
    "FROM `nomadic-ocean-395807.churn_rate.customer_data`\n",
    "GROUP BY number_customer_service_calls, churn\n",
    "LIMIT 1\n",
    "\"\"\"\n",
    "\n",
    "cs_calls=query_and_display(sql)\n",
    "print(cs_calls)"
   ]
  },
  {
   "cell_type": "code",
   "execution_count": null,
   "metadata": {},
   "outputs": [
    {
     "name": "stdout",
     "output_type": "stream",
     "text": [
      "   pearsonsr\n",
      "0   0.051679\n"
     ]
    }
   ],
   "source": [
    "query_and_display(\"\"\"\n",
    "SELECT (Avg(total_intl_charge * total_charges) - (Avg(total_intl_charge) * Avg(total_charges))) / (stddev(total_intl_charge) * stddev(total_charges)) AS pearsonsr\n",
    "FROM `nomadic-ocean-395807.churn_rate.customer_data`\n",
    "\n",
    "\"\"\"\n",
    "\n",
    "corr_avg_cscalls1=query_and_display(sql)\n",
    "print(corr_avg_cscalls1)"
   ]
  },
  {
   "cell_type": "code",
   "execution_count": null,
   "metadata": {},
   "outputs": [
    {
     "name": "stdout",
     "output_type": "stream",
     "text": [
      "   corr_coeff\n",
      "0     0.39843\n"
     ]
    }
   ],
   "source": [
    "query_and_display(\"\"\"\n",
    "SELECT COVAR_POP(total_intl_charge, total_charges) as corr_coeff\n",
    "FROM `nomadic-ocean-395807.churn_rate.customer_data`\n",
    "\"\"\"\n",
    "\n",
    "corr_cscalls=query_and_display(sql)\n",
    "print(corr_cscalls)"
   ]
  },
  {
   "cell_type": "markdown",
   "metadata": {},
   "source": [
    "## Median\n",
    "Voicemail etc.\n",
    "Number of customer service calls"
   ]
  },
  {
   "cell_type": "code",
   "execution_count": null,
   "metadata": {},
   "outputs": [
    {
     "name": "stdout",
     "output_type": "stream",
     "text": [
      "   median\n",
      "0       0\n"
     ]
    }
   ],
   "source": [
    "query_and_display(\"\"\"\n",
    "SELECT PERCENTILE_DISC(number_vmail_messages,0.5) OVER() AS median\n",
    "FROM\n",
    "  `nomadic-ocean-395807.churn_rate.customer_data`\n",
    "LIMIT\n",
    "  1\n",
    "\"\"\"\n",
    "\n",
    "vmail_median=query_and_display(sql)\n",
    "print(vmail_median)"
   ]
  },
  {
   "cell_type": "code",
   "execution_count": null,
   "metadata": {},
   "outputs": [
    {
     "name": "stdout",
     "output_type": "stream",
     "text": [
      "   median\n",
      "0       1\n"
     ]
    }
   ],
   "source": [
    "query_and_display(\"\"\"\n",
    "SELECT PERCENTILE_DISC(number_customer_service_calls,0.5) OVER() AS median\n",
    "FROM\n",
    "  `nomadic-ocean-395807.churn_rate.customer_data`\n",
    "LIMIT\n",
    "  1\n",
    "\"\"\"\n",
    "\n",
    "vmail_cs_calls=query_and_display(sql)\n",
    "print(vmail_cs_calls)"
   ]
  },
  {
   "cell_type": "code",
   "execution_count": null,
   "metadata": {},
   "outputs": [
    {
     "name": "stdout",
     "output_type": "stream",
     "text": [
      "        f0_  churn\n",
      "0  1.165159  False\n",
      "1  1.827334   True\n"
     ]
    }
   ],
   "source": [
    "query_and_display(\"\"\"\n",
    "SELECT STDDEV(number_customer_service_calls), churn\n",
    "FROM `nomadic-ocean-395807.churn_rate.customer_data`\n",
    "GROUP BY churn\n",
    "\n",
    "\"\"\"\n",
    "\n",
    "cs_calls=query_and_display(sql)\n",
    "print(cs_calls)"
   ]
  }
 ],
 "metadata": {
  "language_info": {
   "name": "python"
  },
  "orig_nbformat": 4
 },
 "nbformat": 4,
 "nbformat_minor": 2
}
